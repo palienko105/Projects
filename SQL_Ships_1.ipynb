{
  "nbformat": 4,
  "nbformat_minor": 0,
  "metadata": {
    "colab": {
      "provenance": [],
      "authorship_tag": "ABX9TyP6EoQeE9CcHs6tEnXingy2",
      "include_colab_link": true
    },
    "kernelspec": {
      "name": "python3",
      "display_name": "Python 3"
    },
    "language_info": {
      "name": "python"
    }
  },
  "cells": [
    {
      "cell_type": "markdown",
      "metadata": {
        "id": "view-in-github",
        "colab_type": "text"
      },
      "source": [
        "<a href=\"https://colab.research.google.com/github/palienko105/Projects/blob/main/SQL_Ships_1.ipynb\" target=\"_parent\"><img src=\"https://colab.research.google.com/assets/colab-badge.svg\" alt=\"Open In Colab\"/></a>"
      ]
    },
    {
      "cell_type": "code",
      "execution_count": null,
      "metadata": {
        "id": "OBmkhRJnUU7A"
      },
      "outputs": [],
      "source": [
        "!add-apt-repository -y ppa:sergey-dryabzhinsky/packages\n",
        "!apt update\n",
        "!apt install sqlite3"
      ]
    },
    {
      "cell_type": "code",
      "source": [
        "# MENU: Runtime > Restart runtime\n",
        "import sqlite3\n",
        "sqlite3.sqlite_version  # '3.38.0'"
      ],
      "metadata": {
        "colab": {
          "base_uri": "https://localhost:8080/",
          "height": 35
        },
        "id": "_rLUWEC1V01P",
        "outputId": "929be14b-5a31-4d89-cdeb-a120d3bc65bd"
      },
      "execution_count": 1,
      "outputs": [
        {
          "output_type": "execute_result",
          "data": {
            "text/plain": [
              "'3.40.1'"
            ],
            "application/vnd.google.colaboratory.intrinsic+json": {
              "type": "string"
            }
          },
          "metadata": {},
          "execution_count": 1
        }
      ]
    },
    {
      "cell_type": "code",
      "source": [
        "import pandas as pd\n",
        "import numpy as np"
      ],
      "metadata": {
        "id": "qN5dHS_3WW3f"
      },
      "execution_count": 2,
      "outputs": []
    },
    {
      "cell_type": "code",
      "source": [
        "con = sqlite3.connect('BD_Ships')\n",
        "cur = con.cursor()"
      ],
      "metadata": {
        "id": "wUYwqn3nV402"
      },
      "execution_count": 3,
      "outputs": []
    },
    {
      "cell_type": "code",
      "source": [
        "def select(sql):\n",
        "  return pd.read_sql(sql,con)"
      ],
      "metadata": {
        "id": "GgP-A9yiWPII"
      },
      "execution_count": 4,
      "outputs": []
    },
    {
      "cell_type": "markdown",
      "source": [
        "# Удаляем таблицы, если они есть в БД"
      ],
      "metadata": {
        "id": "qIH34R_tbIdk"
      }
    },
    {
      "cell_type": "code",
      "source": [
        "#Удаляем таблицу \n",
        "cur.execute('''\n",
        "drop table if exists Battles\n",
        "''')\n",
        "cur.execute('''\n",
        "drop table if exists Classes\n",
        "''')\n",
        "cur.execute('''\n",
        "drop table if exists Ships\n",
        "''')\n",
        "cur.execute('''\n",
        "drop table if exists Outcomes\n",
        "''')\n",
        "con.commit() "
      ],
      "metadata": {
        "id": "Eg41xsIWYEgW"
      },
      "execution_count": 11,
      "outputs": []
    },
    {
      "cell_type": "markdown",
      "source": [
        "# Создаем таблицы в БД \"BD_Ships\""
      ],
      "metadata": {
        "id": "l875Jkipad_H"
      }
    },
    {
      "cell_type": "code",
      "source": [
        "cur.execute('''\n",
        "CREATE TABLE Battles (\n",
        "\tname varchar (20) NOT NULL ,\n",
        "\tdate datetime NOT NULL \n",
        ")\n",
        "''')\n",
        "\n",
        "cur.execute('''\n",
        "CREATE TABLE Classes (\n",
        "\tclass varchar (50) NOT NULL ,\n",
        "\ttype varchar (2) NOT NULL ,\n",
        "\tcountry varchar (20) NOT NULL ,\n",
        "\tnumGuns int NULL ,\n",
        "\tbore real NULL ,\n",
        "\tdisplacement int NULL \n",
        ")\n",
        "''')\n",
        "\n",
        "cur.execute('''\n",
        "CREATE TABLE Ships (\n",
        "\tname varchar (50) NOT NULL ,\n",
        "\tclass varchar (50) NOT NULL ,\n",
        "\tlaunched int NULL \n",
        ")\n",
        "''')\n",
        "\n",
        "cur.execute('''\n",
        "CREATE TABLE Outcomes (\n",
        "\tship varchar (50) NOT NULL ,\n",
        "\tbattle varchar (20) NOT NULL ,\n",
        "\tresult varchar (10) NOT NULL \n",
        ")\n",
        "''')\n",
        "con.commit() "
      ],
      "metadata": {
        "id": "KR7gBxOxWgH_"
      },
      "execution_count": 12,
      "outputs": []
    },
    {
      "cell_type": "code",
      "source": [
        "sql = '''\n",
        "SELECT name FROM sqlite_master WHERE type='table'\n",
        "'''\n",
        "select(sql)"
      ],
      "metadata": {
        "colab": {
          "base_uri": "https://localhost:8080/",
          "height": 175
        },
        "id": "RDZXh3SQ0bYU",
        "outputId": "47beb94c-75b5-48c1-8158-9204f86601e0"
      },
      "execution_count": 13,
      "outputs": [
        {
          "output_type": "execute_result",
          "data": {
            "text/plain": [
              "       name\n",
              "0   Battles\n",
              "1   Classes\n",
              "2     Ships\n",
              "3  Outcomes"
            ],
            "text/html": [
              "\n",
              "  <div id=\"df-875dbafd-e039-4d31-ae11-8a9342851dd5\">\n",
              "    <div class=\"colab-df-container\">\n",
              "      <div>\n",
              "<style scoped>\n",
              "    .dataframe tbody tr th:only-of-type {\n",
              "        vertical-align: middle;\n",
              "    }\n",
              "\n",
              "    .dataframe tbody tr th {\n",
              "        vertical-align: top;\n",
              "    }\n",
              "\n",
              "    .dataframe thead th {\n",
              "        text-align: right;\n",
              "    }\n",
              "</style>\n",
              "<table border=\"1\" class=\"dataframe\">\n",
              "  <thead>\n",
              "    <tr style=\"text-align: right;\">\n",
              "      <th></th>\n",
              "      <th>name</th>\n",
              "    </tr>\n",
              "  </thead>\n",
              "  <tbody>\n",
              "    <tr>\n",
              "      <th>0</th>\n",
              "      <td>Battles</td>\n",
              "    </tr>\n",
              "    <tr>\n",
              "      <th>1</th>\n",
              "      <td>Classes</td>\n",
              "    </tr>\n",
              "    <tr>\n",
              "      <th>2</th>\n",
              "      <td>Ships</td>\n",
              "    </tr>\n",
              "    <tr>\n",
              "      <th>3</th>\n",
              "      <td>Outcomes</td>\n",
              "    </tr>\n",
              "  </tbody>\n",
              "</table>\n",
              "</div>\n",
              "      <button class=\"colab-df-convert\" onclick=\"convertToInteractive('df-875dbafd-e039-4d31-ae11-8a9342851dd5')\"\n",
              "              title=\"Convert this dataframe to an interactive table.\"\n",
              "              style=\"display:none;\">\n",
              "        \n",
              "  <svg xmlns=\"http://www.w3.org/2000/svg\" height=\"24px\"viewBox=\"0 0 24 24\"\n",
              "       width=\"24px\">\n",
              "    <path d=\"M0 0h24v24H0V0z\" fill=\"none\"/>\n",
              "    <path d=\"M18.56 5.44l.94 2.06.94-2.06 2.06-.94-2.06-.94-.94-2.06-.94 2.06-2.06.94zm-11 1L8.5 8.5l.94-2.06 2.06-.94-2.06-.94L8.5 2.5l-.94 2.06-2.06.94zm10 10l.94 2.06.94-2.06 2.06-.94-2.06-.94-.94-2.06-.94 2.06-2.06.94z\"/><path d=\"M17.41 7.96l-1.37-1.37c-.4-.4-.92-.59-1.43-.59-.52 0-1.04.2-1.43.59L10.3 9.45l-7.72 7.72c-.78.78-.78 2.05 0 2.83L4 21.41c.39.39.9.59 1.41.59.51 0 1.02-.2 1.41-.59l7.78-7.78 2.81-2.81c.8-.78.8-2.07 0-2.86zM5.41 20L4 18.59l7.72-7.72 1.47 1.35L5.41 20z\"/>\n",
              "  </svg>\n",
              "      </button>\n",
              "      \n",
              "  <style>\n",
              "    .colab-df-container {\n",
              "      display:flex;\n",
              "      flex-wrap:wrap;\n",
              "      gap: 12px;\n",
              "    }\n",
              "\n",
              "    .colab-df-convert {\n",
              "      background-color: #E8F0FE;\n",
              "      border: none;\n",
              "      border-radius: 50%;\n",
              "      cursor: pointer;\n",
              "      display: none;\n",
              "      fill: #1967D2;\n",
              "      height: 32px;\n",
              "      padding: 0 0 0 0;\n",
              "      width: 32px;\n",
              "    }\n",
              "\n",
              "    .colab-df-convert:hover {\n",
              "      background-color: #E2EBFA;\n",
              "      box-shadow: 0px 1px 2px rgba(60, 64, 67, 0.3), 0px 1px 3px 1px rgba(60, 64, 67, 0.15);\n",
              "      fill: #174EA6;\n",
              "    }\n",
              "\n",
              "    [theme=dark] .colab-df-convert {\n",
              "      background-color: #3B4455;\n",
              "      fill: #D2E3FC;\n",
              "    }\n",
              "\n",
              "    [theme=dark] .colab-df-convert:hover {\n",
              "      background-color: #434B5C;\n",
              "      box-shadow: 0px 1px 3px 1px rgba(0, 0, 0, 0.15);\n",
              "      filter: drop-shadow(0px 1px 2px rgba(0, 0, 0, 0.3));\n",
              "      fill: #FFFFFF;\n",
              "    }\n",
              "  </style>\n",
              "\n",
              "      <script>\n",
              "        const buttonEl =\n",
              "          document.querySelector('#df-875dbafd-e039-4d31-ae11-8a9342851dd5 button.colab-df-convert');\n",
              "        buttonEl.style.display =\n",
              "          google.colab.kernel.accessAllowed ? 'block' : 'none';\n",
              "\n",
              "        async function convertToInteractive(key) {\n",
              "          const element = document.querySelector('#df-875dbafd-e039-4d31-ae11-8a9342851dd5');\n",
              "          const dataTable =\n",
              "            await google.colab.kernel.invokeFunction('convertToInteractive',\n",
              "                                                     [key], {});\n",
              "          if (!dataTable) return;\n",
              "\n",
              "          const docLinkHtml = 'Like what you see? Visit the ' +\n",
              "            '<a target=\"_blank\" href=https://colab.research.google.com/notebooks/data_table.ipynb>data table notebook</a>'\n",
              "            + ' to learn more about interactive tables.';\n",
              "          element.innerHTML = '';\n",
              "          dataTable['output_type'] = 'display_data';\n",
              "          await google.colab.output.renderOutput(dataTable, element);\n",
              "          const docLink = document.createElement('div');\n",
              "          docLink.innerHTML = docLinkHtml;\n",
              "          element.appendChild(docLink);\n",
              "        }\n",
              "      </script>\n",
              "    </div>\n",
              "  </div>\n",
              "  "
            ]
          },
          "metadata": {},
          "execution_count": 13
        }
      ]
    },
    {
      "cell_type": "markdown",
      "source": [
        "# Добавляем данные в таблицы"
      ],
      "metadata": {
        "id": "Mfmt8W6kuRp_"
      }
    },
    {
      "cell_type": "code",
      "source": [
        "cur.execute('''\n",
        "insert into Classes values\n",
        "('Bismarck','bb','Germany',8,15,42000),\n",
        "('Iowa','bb','USA',9,16,46000),\n",
        "('Kongo','bc','Japan',8,14,32000),\n",
        "('North Carolina','bb','USA',12,16,37000),\n",
        "('Renown','bc','Gt.Britain',6,15,32000),\n",
        "('Revenge','bb','Gt.Britain',8,15,29000),\n",
        "('Tennessee','bb','USA',12,14,32000),\n",
        "('Yamato','bb','Japan',9,18,65000)\n",
        "''')\n",
        "\n",
        "cur.execute('''\n",
        "insert into Battles values\n",
        "('Guadalcanal','1942-11-15 00:00:00'),\n",
        "('North Atlantic','1941-05-25 00:00:00'),\n",
        "('North Cape','1943-12-26 00:00:00'),\n",
        "('Surigao Strait','1944-10-25 00:00:00'),\n",
        "('#Cuba62a'   , '1962-10-20'),\n",
        "('#Cuba62b'   , '1962-10-25')\n",
        "''')\n",
        "\n",
        "cur.execute('''\n",
        "insert into Ships values\n",
        "('California','Tennessee',1921),\n",
        "('Haruna','Kongo',1916),\n",
        "('Hiei','Kongo',1914),\n",
        "('Iowa','Iowa',1943),\n",
        "('Kirishima','Kongo',1915),\n",
        "('Kongo','Kongo',1913),\n",
        "('Missouri','Iowa',1944),\n",
        "('Musashi','Yamato',1942),\n",
        "('New Jersey','Iowa',1943),\n",
        "('North Carolina','North Carolina',1941),\n",
        "('Ramillies','Revenge',1917),\n",
        "('Renown','Renown',1916),\n",
        "('Repulse','Renown',1916),\n",
        "('Resolution','Renown',1916),\n",
        "('Revenge','Revenge',1916),\n",
        "('Royal Oak','Revenge',1916),\n",
        "('Royal Sovereign','Revenge',1916),\n",
        "('Tennessee','Tennessee',1920),\n",
        "('Washington','North Carolina',1941),\n",
        "('Wisconsin','Iowa',1944),\n",
        "('Yamato','Yamato',1941),\n",
        "('South Dakota','North Carolina',1941)\n",
        "''')\n",
        "\n",
        "cur.execute('''\n",
        "insert into Outcomes values\n",
        "('Bismarck','North Atlantic','sunk'),\n",
        "('California','Surigao Strait','OK'),\n",
        "('Duke of York','North Cape','OK'),\n",
        "('Fuso','Surigao Strait','sunk'),\n",
        "('Hood','North Atlantic','sunk'),\n",
        "('King George V','North Atlantic','OK'),\n",
        "('Kirishima','Guadalcanal','sunk'),\n",
        "('Prince of Wales','North Atlantic','damaged'),\n",
        "('Rodney','North Atlantic','OK'),\n",
        "('Schamhorst','North Cape','sunk'),\n",
        "('South Dakota','Guadalcanal','damaged'),\n",
        "('Tennessee','Surigao Strait','OK'),\n",
        "('Washington','Guadalcanal','OK'),\n",
        "('West Virginia','Surigao Strait','OK'),\n",
        "('Yamashiro','Surigao Strait','sunk'),\n",
        "('California','Guadalcanal','damaged')\n",
        "''')\n",
        "\n",
        "con.commit()"
      ],
      "metadata": {
        "id": "NpLa5JJxzH6w"
      },
      "execution_count": 14,
      "outputs": []
    },
    {
      "cell_type": "markdown",
      "source": [
        "# Описание БД:"
      ],
      "metadata": {
        "id": "rdeI-8zy1qx2"
      }
    },
    {
      "cell_type": "markdown",
      "source": [
        "\"Корабли\"\n",
        "\n",
        "Рассматривается БД кораблей, участвовавших во второй мировой войне. Имеются следующие отношения:    \n",
        "Classes (class, type, country, numGuns, bore, displacement)     \n",
        "Ships (name, class, launched)   \n",
        "Battles (name, date)    \n",
        "Outcomes (ship, battle, result)    \n",
        "Корабли в «классах» построены по одному и тому же проекту, и классу присваивается либо имя первого корабля, построенного по данному проекту, либо названию класса дается имя проекта, которое не совпадает ни с одним из кораблей в БД. Корабль, давший название классу, называется головным.\n",
        "Отношение Classes содержит имя класса, тип (bb для боевого (линейного) корабля или bc для боевого крейсера), страну, в которой построен корабль, число главных орудий, калибр орудий (диаметр ствола орудия в дюймах) и водоизмещение ( вес в тоннах). В отношении Ships записаны название корабля, имя его класса и год спуска на воду. В отношение Battles включены название и дата битвы, в которой участвовали корабли, а в отношении Outcomes – результат участия данного корабля в битве (потоплен-sunk, поврежден - damaged или невредим - OK).    \n",
        "Замечания. 1) В отношение Outcomes могут входить корабли, отсутствующие в отношении Ships. 2) Потопленный корабль в последующих битвах участия не принимает."
      ],
      "metadata": {
        "id": "_pWo9zTW1vZ6"
      }
    },
    {
      "cell_type": "markdown",
      "source": [
        "# Задание:"
      ],
      "metadata": {
        "id": "KeV_AaiV2Dva"
      }
    },
    {
      "cell_type": "markdown",
      "source": [
        "Одной из характеристик корабля является половина куба калибра его главных орудий (mw). С точностью до 2 десятичных знаков определите среднее значение mw для кораблей каждой страны, у которой есть корабли в базе данных."
      ],
      "metadata": {
        "id": "1wrj54En2Gfg"
      }
    },
    {
      "cell_type": "code",
      "source": [
        "sql = '''\n",
        "with vrem1 as -- Корабли, которые есть Outcomes, но нет в Ships\n",
        "( \n",
        "Select ship\n",
        "from Outcomes\n",
        "EXCEPT \n",
        "select name\n",
        "from Ships\n",
        "),\n",
        "\n",
        "vrem2 as --Находим такие корабли из vrem1, по которым есть инфа в Classes\n",
        "(\n",
        "Select class\n",
        "from Classes\n",
        "INTERSECT\n",
        "Select *\n",
        "from vrem1\n",
        "),\n",
        "\n",
        "vrem3 as --все корабли, по которым есть информация о калибре их главных орудий\n",
        "(\n",
        "select name, class\n",
        "from Ships\n",
        "UNION\n",
        "Select class as name, class\n",
        "from vrem2\n",
        ")\n",
        "\n",
        "--Формирую итоговую выгрузку по запросу:\n",
        "\n",
        "select country, ROUND(avg(bore*bore*bore/2), 2) as weight\n",
        "from vrem3 v3\n",
        "join Classes c \n",
        "  on v3.class=c.class\n",
        "group by country\n",
        "'''\n",
        "select (sql)"
      ],
      "metadata": {
        "colab": {
          "base_uri": "https://localhost:8080/",
          "height": 175
        },
        "id": "RjBJ-E0S3sNS",
        "outputId": "1c89fbaa-5197-4749-c70f-1a75d6e28758"
      },
      "execution_count": 39,
      "outputs": [
        {
          "output_type": "execute_result",
          "data": {
            "text/plain": [
              "      country   weight\n",
              "0     Germany  1687.50\n",
              "1  Gt.Britain  1687.50\n",
              "2       Japan  1886.67\n",
              "3         USA  1897.78"
            ],
            "text/html": [
              "\n",
              "  <div id=\"df-0d4a4047-f58a-42f9-bdd6-8dc70dbe4ec4\">\n",
              "    <div class=\"colab-df-container\">\n",
              "      <div>\n",
              "<style scoped>\n",
              "    .dataframe tbody tr th:only-of-type {\n",
              "        vertical-align: middle;\n",
              "    }\n",
              "\n",
              "    .dataframe tbody tr th {\n",
              "        vertical-align: top;\n",
              "    }\n",
              "\n",
              "    .dataframe thead th {\n",
              "        text-align: right;\n",
              "    }\n",
              "</style>\n",
              "<table border=\"1\" class=\"dataframe\">\n",
              "  <thead>\n",
              "    <tr style=\"text-align: right;\">\n",
              "      <th></th>\n",
              "      <th>country</th>\n",
              "      <th>weight</th>\n",
              "    </tr>\n",
              "  </thead>\n",
              "  <tbody>\n",
              "    <tr>\n",
              "      <th>0</th>\n",
              "      <td>Germany</td>\n",
              "      <td>1687.50</td>\n",
              "    </tr>\n",
              "    <tr>\n",
              "      <th>1</th>\n",
              "      <td>Gt.Britain</td>\n",
              "      <td>1687.50</td>\n",
              "    </tr>\n",
              "    <tr>\n",
              "      <th>2</th>\n",
              "      <td>Japan</td>\n",
              "      <td>1886.67</td>\n",
              "    </tr>\n",
              "    <tr>\n",
              "      <th>3</th>\n",
              "      <td>USA</td>\n",
              "      <td>1897.78</td>\n",
              "    </tr>\n",
              "  </tbody>\n",
              "</table>\n",
              "</div>\n",
              "      <button class=\"colab-df-convert\" onclick=\"convertToInteractive('df-0d4a4047-f58a-42f9-bdd6-8dc70dbe4ec4')\"\n",
              "              title=\"Convert this dataframe to an interactive table.\"\n",
              "              style=\"display:none;\">\n",
              "        \n",
              "  <svg xmlns=\"http://www.w3.org/2000/svg\" height=\"24px\"viewBox=\"0 0 24 24\"\n",
              "       width=\"24px\">\n",
              "    <path d=\"M0 0h24v24H0V0z\" fill=\"none\"/>\n",
              "    <path d=\"M18.56 5.44l.94 2.06.94-2.06 2.06-.94-2.06-.94-.94-2.06-.94 2.06-2.06.94zm-11 1L8.5 8.5l.94-2.06 2.06-.94-2.06-.94L8.5 2.5l-.94 2.06-2.06.94zm10 10l.94 2.06.94-2.06 2.06-.94-2.06-.94-.94-2.06-.94 2.06-2.06.94z\"/><path d=\"M17.41 7.96l-1.37-1.37c-.4-.4-.92-.59-1.43-.59-.52 0-1.04.2-1.43.59L10.3 9.45l-7.72 7.72c-.78.78-.78 2.05 0 2.83L4 21.41c.39.39.9.59 1.41.59.51 0 1.02-.2 1.41-.59l7.78-7.78 2.81-2.81c.8-.78.8-2.07 0-2.86zM5.41 20L4 18.59l7.72-7.72 1.47 1.35L5.41 20z\"/>\n",
              "  </svg>\n",
              "      </button>\n",
              "      \n",
              "  <style>\n",
              "    .colab-df-container {\n",
              "      display:flex;\n",
              "      flex-wrap:wrap;\n",
              "      gap: 12px;\n",
              "    }\n",
              "\n",
              "    .colab-df-convert {\n",
              "      background-color: #E8F0FE;\n",
              "      border: none;\n",
              "      border-radius: 50%;\n",
              "      cursor: pointer;\n",
              "      display: none;\n",
              "      fill: #1967D2;\n",
              "      height: 32px;\n",
              "      padding: 0 0 0 0;\n",
              "      width: 32px;\n",
              "    }\n",
              "\n",
              "    .colab-df-convert:hover {\n",
              "      background-color: #E2EBFA;\n",
              "      box-shadow: 0px 1px 2px rgba(60, 64, 67, 0.3), 0px 1px 3px 1px rgba(60, 64, 67, 0.15);\n",
              "      fill: #174EA6;\n",
              "    }\n",
              "\n",
              "    [theme=dark] .colab-df-convert {\n",
              "      background-color: #3B4455;\n",
              "      fill: #D2E3FC;\n",
              "    }\n",
              "\n",
              "    [theme=dark] .colab-df-convert:hover {\n",
              "      background-color: #434B5C;\n",
              "      box-shadow: 0px 1px 3px 1px rgba(0, 0, 0, 0.15);\n",
              "      filter: drop-shadow(0px 1px 2px rgba(0, 0, 0, 0.3));\n",
              "      fill: #FFFFFF;\n",
              "    }\n",
              "  </style>\n",
              "\n",
              "      <script>\n",
              "        const buttonEl =\n",
              "          document.querySelector('#df-0d4a4047-f58a-42f9-bdd6-8dc70dbe4ec4 button.colab-df-convert');\n",
              "        buttonEl.style.display =\n",
              "          google.colab.kernel.accessAllowed ? 'block' : 'none';\n",
              "\n",
              "        async function convertToInteractive(key) {\n",
              "          const element = document.querySelector('#df-0d4a4047-f58a-42f9-bdd6-8dc70dbe4ec4');\n",
              "          const dataTable =\n",
              "            await google.colab.kernel.invokeFunction('convertToInteractive',\n",
              "                                                     [key], {});\n",
              "          if (!dataTable) return;\n",
              "\n",
              "          const docLinkHtml = 'Like what you see? Visit the ' +\n",
              "            '<a target=\"_blank\" href=https://colab.research.google.com/notebooks/data_table.ipynb>data table notebook</a>'\n",
              "            + ' to learn more about interactive tables.';\n",
              "          element.innerHTML = '';\n",
              "          dataTable['output_type'] = 'display_data';\n",
              "          await google.colab.output.renderOutput(dataTable, element);\n",
              "          const docLink = document.createElement('div');\n",
              "          docLink.innerHTML = docLinkHtml;\n",
              "          element.appendChild(docLink);\n",
              "        }\n",
              "      </script>\n",
              "    </div>\n",
              "  </div>\n",
              "  "
            ]
          },
          "metadata": {},
          "execution_count": 39
        }
      ]
    }
  ]
}