{
  "nbformat": 4,
  "nbformat_minor": 0,
  "metadata": {
    "colab": {
      "provenance": [],
      "authorship_tag": "ABX9TyP/KcqFsiIMx0IMppBGOyrF",
      "include_colab_link": true
    },
    "kernelspec": {
      "name": "python3",
      "display_name": "Python 3"
    },
    "language_info": {
      "name": "python"
    }
  },
  "cells": [
    {
      "cell_type": "markdown",
      "metadata": {
        "id": "view-in-github",
        "colab_type": "text"
      },
      "source": [
        "<a href=\"https://colab.research.google.com/github/palienko105/Projects/blob/main/FIFA_World_Cup_2022_Dashboard.ipynb\" target=\"_parent\"><img src=\"https://colab.research.google.com/assets/colab-badge.svg\" alt=\"Open In Colab\"/></a>"
      ]
    },
    {
      "cell_type": "markdown",
      "source": [
        "# На основе итоговой таблицы из предыдущего блокнота был сделан следующий отчет:"
      ],
      "metadata": {
        "id": "FkjTq1BnS3on"
      }
    },
    {
      "cell_type": "markdown",
      "source": [
        "https://datastudio.google.com/reporting/a9220a9d-bf02-45fd-9512-28d0fe0815dc"
      ],
      "metadata": {
        "id": "119IeFt0TED9"
      }
    }
  ]
}